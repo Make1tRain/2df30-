{
 "cells": [
  {
   "cell_type": "markdown",
   "metadata": {},
   "source": [
    "# Imports"
   ]
  },
  {
   "cell_type": "code",
   "execution_count": 8,
   "metadata": {},
   "outputs": [],
   "source": [
    "import numpy as np \n",
    "import matplotlib.pyplot as plt  \n",
    "import pandas as pd\n",
    "import scipy.stats as stats \n",
    "import sympy as sy \n",
    "import time"
   ]
  },
  {
   "cell_type": "markdown",
   "metadata": {},
   "source": [
    "# Constants"
   ]
  },
  {
   "cell_type": "code",
   "execution_count": null,
   "metadata": {},
   "outputs": [],
   "source": [
    "# We want to take time horizon as 100 years which is 36525 days including the years with more or less days\n",
    "TIME_HORIZON = 5 # TODO: this time horizon should be equal to 36525\n",
    "LAMBDA = 4\n",
    "CLAIMSIZE_MEAN = 16000 "
   ]
  },
  {
   "cell_type": "markdown",
   "metadata": {},
   "source": [
    "### Use Monte Carlo simulation to investigate the influence of the premium c and the initial capital u on the ruin probability ψ(u)."
   ]
  },
  {
   "cell_type": "code",
   "execution_count": null,
   "metadata": {},
   "outputs": [
    {
     "name": "stdout",
     "output_type": "stream",
     "text": [
      "Claim Sizes ~ U(10000,22000)\n"
     ]
    }
   ],
   "source": [
    "# 1 - Create the distributions for the claim sizes, number of claims\n",
    "\n",
    "# 1.1 - Claim sizes (Uniform distribution with a mean of 16,000 and a variance of 12,000,000)\n",
    "# 1.1.1 - Calculate the a and b of the continuous uniform distribution\n",
    "a, b, mu, var = sy.symbols(\"a, b, mu, sigma^2\")\n",
    "\n",
    "eq1 = sy.Eq((a + b) / 2, mu)\n",
    "eq2 = sy.Eq(((a - b) ** 2) / 12, var)\n",
    "\n",
    "# by using the two equations which are the definitions of mean and variance of continuous uniform distribution,\n",
    "# we find the values of a and b\n",
    "bValue = sy.solve(\n",
    "    eq1.subs({a: sy.solve(eq2, a)[0], mu: CLAIMSIZE_MEAN, var: 12000000})\n",
    ")[0]\n",
    "aValue = sy.solve(eq1.subs({b: bValue, mu: CLAIMSIZE_MEAN}), a)[0]\n",
    "print(f\"Claim Sizes ~ U({aValue},{bValue})\")\n",
    "\n",
    "# 1.1.2 Create the claim size distribution\n",
    "claimSizeDistribution = stats.uniform(loc=aValue, scale=bValue - aValue)\n",
    "\n",
    "# 1.2 - Number of Claims (Poisson(lambda * t)) (lambda is 4 per day)\n",
    "# NOTE: In the example, the expected value of N(t) was taken by saying time horizon * lambda however,\n",
    "# we decided to sample the number of claims as well since it is an RV.\n",
    "NumberOfClaimDistribution = stats.poisson(mu=TIME_HORIZON * LAMBDA)"
   ]
  },
  {
   "cell_type": "code",
   "execution_count": null,
   "metadata": {},
   "outputs": [],
   "source": [
    "class question_1:\n",
    "    def run(self, u0, c):\n",
    "        # we first get a sample from the number of claims RV N(t) ~ Pois(lam * t)\n",
    "        N = NumberOfClaimDistribution.rvs(1)\n",
    "        # We get interarrival times ~ Expon(lambda) which is a property of PP\n",
    "        interArrivals = stats.expon(scale=1 / LAMBDA).rvs(N)\n",
    "        arrivalTimes = np.cumsum(interArrivals)\n",
    "\n",
    "        # We sample the claim sizes\n",
    "        claimSizes = claimSizeDistribution.rvs(N)\n",
    "        cumulativeClaims = np.cumsum(claimSizes)\n",
    "\n",
    "        # Calculate U(t) at every t\n",
    "        levels = u0 + arrivalTimes * c - cumulativeClaims\n",
    "\n",
    "        ruin = min(levels) < 0\n",
    "        return arrivalTimes, cumulativeClaims, levels, ruin\n",
    "\n",
    "    def simulate(self, u0List, thetaList, n=1000):\n",
    "\n",
    "        print(\n",
    "            f\"\"\"\n",
    "Time Horizon: {TIME_HORIZON} days.\n",
    "u0 List: {u0List}\n",
    "Safety Loading List: {thetaList}\n",
    "\n",
    "\"\"\"\n",
    "        )\n",
    "\n",
    "        result = [[[]] * len(thetaList)] * len(u0List)\n",
    "\n",
    "        for i, u0 in enumerate(u0List):\n",
    "            for j, theta in enumerate(thetaList):\n",
    "                result[i][j] = self.simulate_one_pair(u0, theta, n)\n",
    "\n",
    "        df = pd.DataFrame(data=result, columns=thetaList, index=u0List)\n",
    "        df.to_csv('question_1_simulation_results.csv', index=False)\n",
    "        \n",
    "        return df\n",
    "    def simulate_one_pair(self, u0, theta, n):\n",
    "        start = time.time()\n",
    "        result = np.zeros(n)\n",
    "        c = (1 + theta) * LAMBDA * CLAIMSIZE_MEAN  # CLAIMSIZE_MEAN is E(X_i)\n",
    "\n",
    "        for i in range(n):\n",
    "            arrivalTimes, cumulativeClaims, levels, ruin = self.run(u0, c)\n",
    "            result[i] = 1 if ruin == True else 0\n",
    "\n",
    "        end = time.time()\n",
    "        print(\n",
    "            f\"Time taken for {n} simulations: {end - start} seconds, this is equal to {(end - start) / n} seconds per run.\"\n",
    "        )\n",
    "        return np.mean(result)\n",
    "\n",
    "    def simulate_once_and_plot(self, u0, theta):\n",
    "        c = (1 + theta) * LAMBDA * CLAIMSIZE_MEAN  # CLAIMSIZE_MEAN is E(X_i)\n",
    "        arrivalTimes, cumulativeClaims, levels, ruin = self.run(u0, c)\n",
    "\n",
    "        plt.figure()\n",
    "        plt.step(arrivalTimes, cumulativeClaims, \"b\", where=\"post\")\n",
    "        plt.plot(arrivalTimes, u0 + c * arrivalTimes, \"r\")\n",
    "        plt.show()"
   ]
  },
  {
   "cell_type": "code",
   "execution_count": null,
   "metadata": {},
   "outputs": [],
   "source": [
    "# TODO: Uncomment this. \n",
    "# u0List = [CLAIMSIZE_MEAN * i for i in range(10)]\n",
    "# thetaList = [0, 0.1, 0.5, 0.9, 1]\n",
    "# question_1().simulate(u0List, thetaList)"
   ]
  },
  {
   "cell_type": "markdown",
   "metadata": {},
   "source": [
    "### Determine the distribution of the maximal aggregate loss in case of Erlang-2 distributed claim sizes with mean 16 thousand PLZ, and give an explicit expression for the ruin probability ψE2(u)."
   ]
  },
  {
   "cell_type": "code",
   "execution_count": 64,
   "metadata": {},
   "outputs": [
    {
     "data": {
      "text/latex": [
       "$\\displaystyle 8.33259266253483 \\cdot 10^{-9}$"
      ],
      "text/plain": [
       "8.33259266253483e-9"
      ]
     },
     "execution_count": 64,
     "metadata": {},
     "output_type": "execute_result"
    }
   ],
   "source": [
    "R, t = sy.symbols(\"R theta\")\n",
    "\n",
    "eq = sy.Eq(16000 * R * (1 + t) + 1, 1 / ((1 - 8000 * R) ** 2))\n",
    "# sy.solve(eq, R)[2].subs({t:0}).evalf()\n",
    "eq1 = sy.solve(eq, R)[1]\n",
    "eq2 = sy.solve(eq, R)[2]\n",
    "\n",
    "# thetaList = [i / 1000 for i in range(1,10000)] # we assume that theta>0\n",
    "# plt.plot(thetaList, [eq1.subs({t:theta})for theta in thetaList], color=\"b\")\n",
    "# plt.plot(thetaList, [eq2.subs({t:theta})for theta in thetaList], color=\"r\")\n",
    "# thetaList\n",
    "eq1.subs({t:0.0001})"
   ]
  },
  {
   "cell_type": "code",
   "execution_count": null,
   "metadata": {},
   "outputs": [],
   "source": []
  }
 ],
 "metadata": {
  "kernelspec": {
   "display_name": "2df30assignment1venv",
   "language": "python",
   "name": "python3"
  },
  "language_info": {
   "codemirror_mode": {
    "name": "ipython",
    "version": 3
   },
   "file_extension": ".py",
   "mimetype": "text/x-python",
   "name": "python",
   "nbconvert_exporter": "python",
   "pygments_lexer": "ipython3",
   "version": "3.12.5"
  }
 },
 "nbformat": 4,
 "nbformat_minor": 2
}
